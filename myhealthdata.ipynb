{
  "nbformat": 4,
  "nbformat_minor": 0,
  "metadata": {
    "colab": {
      "name": "myhealthdata.ipynb",
      "provenance": [],
      "mount_file_id": "14BEbT4C99QB_x4w-KDU9bweLojJrvVW2",
      "authorship_tag": "ABX9TyPOOTz8EoptEC4kzztXnipN",
      "include_colab_link": true
    },
    "kernelspec": {
      "name": "python3",
      "display_name": "Python 3"
    }
  },
  "cells": [
    {
      "cell_type": "markdown",
      "metadata": {
        "id": "view-in-github",
        "colab_type": "text"
      },
      "source": [
        "<a href=\"https://colab.research.google.com/github/dizzySummer/Machine-Learning-on-UCI-Datasets/blob/master/myhealthdata.ipynb\" target=\"_parent\"><img src=\"https://colab.research.google.com/assets/colab-badge.svg\" alt=\"Open In Colab\"/></a>"
      ]
    },
    {
      "cell_type": "code",
      "metadata": {
        "id": "u4oou1IT15dU"
      },
      "source": [
        "#Anova exercise?\n",
        "H0:μSpring=μSummer=μAutumn=μWinter \n",
        "H1:μSpring!=μSummer!=μAutumn!=μWinter "
      ],
      "execution_count": null,
      "outputs": []
    },
    {
      "cell_type": "code",
      "metadata": {
        "colab": {
          "base_uri": "https://localhost:8080/"
        },
        "id": "_YbO7LCYrCLy",
        "outputId": "a3fc3376-9b80-4ef9-c14e-be05ccae5900"
      },
      "source": [
        "# %run -i 'apple-health-data-parser' 'export.xml' \n",
        "%run -i '/content/drive/MyDrive/apple-health-data-parser.py' '/content/drive/MyDrive/export.xml'"
      ],
      "execution_count": 1,
      "outputs": [
        {
          "output_type": "stream",
          "text": [
            "Reading data from /content/drive/MyDrive/export.xml . . . done\n",
            "Unexpected node of type ExportDate.\n",
            "\n",
            "Tags:\n",
            "ExportDate: 1\n",
            "Me: 1\n",
            "Record: 36894\n",
            "\n",
            "Fields:\n",
            "HKCharacteristicTypeIdentifierBiologicalSex: 1\n",
            "HKCharacteristicTypeIdentifierBloodType: 1\n",
            "HKCharacteristicTypeIdentifierCardioFitnessMedicationsUse: 1\n",
            "HKCharacteristicTypeIdentifierDateOfBirth: 1\n",
            "HKCharacteristicTypeIdentifierFitzpatrickSkinType: 1\n",
            "creationDate: 36894\n",
            "device: 36894\n",
            "endDate: 36894\n",
            "sourceName: 36894\n",
            "sourceVersion: 36758\n",
            "startDate: 36894\n",
            "type: 36894\n",
            "unit: 36758\n",
            "value: 36895\n",
            "\n",
            "Record types:\n",
            "DistanceWalkingRunning: 10895\n",
            "FlightsClimbed: 904\n",
            "HeadphoneAudioExposure: 2632\n",
            "SleepAnalysis: 136\n",
            "StepCount: 10891\n",
            "WalkingAsymmetryPercentage: 2094\n",
            "WalkingDoubleSupportPercentage: 3106\n",
            "WalkingSpeed: 3118\n",
            "WalkingStepLength: 3118\n",
            "\n",
            "Opening /content/drive/MyDrive/StepCount.csv for writing\n",
            "Opening /content/drive/MyDrive/DistanceWalkingRunning.csv for writing\n",
            "Opening /content/drive/MyDrive/FlightsClimbed.csv for writing\n",
            "Opening /content/drive/MyDrive/HeadphoneAudioExposure.csv for writing\n",
            "Opening /content/drive/MyDrive/WalkingDoubleSupportPercentage.csv for writing\n",
            "Opening /content/drive/MyDrive/WalkingSpeed.csv for writing\n",
            "Opening /content/drive/MyDrive/WalkingStepLength.csv for writing\n",
            "Opening /content/drive/MyDrive/WalkingAsymmetryPercentage.csv for writing\n",
            "Opening /content/drive/MyDrive/SleepAnalysis.csv for writing\n",
            "Written StepCount data.\n",
            "Written DistanceWalkingRunning data.\n",
            "Written FlightsClimbed data.\n",
            "Written HeadphoneAudioExposure data.\n",
            "Written WalkingDoubleSupportPercentage data.\n",
            "Written WalkingSpeed data.\n",
            "Written WalkingStepLength data.\n",
            "Written WalkingAsymmetryPercentage data.\n",
            "Written SleepAnalysis data.\n"
          ],
          "name": "stdout"
        }
      ]
    },
    {
      "cell_type": "code",
      "metadata": {
        "id": "ifj65fBdsjYV"
      },
      "source": [
        "import numpy as np\n",
        "import pandas as pd\n",
        "import glob\n",
        "import time\n",
        "from datetime import datetime"
      ],
      "execution_count": 2,
      "outputs": []
    },
    {
      "cell_type": "code",
      "metadata": {
        "colab": {
          "base_uri": "https://localhost:8080/",
          "height": 289
        },
        "id": "73vlnP-BtEkx",
        "outputId": "b71147f1-457d-4bd2-9dd0-b9e02a6f0b1d"
      },
      "source": [
        "df=pd.read_csv(\"/content/drive/MyDrive/StepCount.csv\")\n",
        "df.head()"
      ],
      "execution_count": 3,
      "outputs": [
        {
          "output_type": "execute_result",
          "data": {
            "text/html": [
              "<div>\n",
              "<style scoped>\n",
              "    .dataframe tbody tr th:only-of-type {\n",
              "        vertical-align: middle;\n",
              "    }\n",
              "\n",
              "    .dataframe tbody tr th {\n",
              "        vertical-align: top;\n",
              "    }\n",
              "\n",
              "    .dataframe thead th {\n",
              "        text-align: right;\n",
              "    }\n",
              "</style>\n",
              "<table border=\"1\" class=\"dataframe\">\n",
              "  <thead>\n",
              "    <tr style=\"text-align: right;\">\n",
              "      <th></th>\n",
              "      <th>sourceName</th>\n",
              "      <th>sourceVersion</th>\n",
              "      <th>device</th>\n",
              "      <th>type</th>\n",
              "      <th>unit</th>\n",
              "      <th>creationDate</th>\n",
              "      <th>startDate</th>\n",
              "      <th>endDate</th>\n",
              "      <th>value</th>\n",
              "    </tr>\n",
              "  </thead>\n",
              "  <tbody>\n",
              "    <tr>\n",
              "      <th>0</th>\n",
              "      <td>Yi</td>\n",
              "      <td>12.3</td>\n",
              "      <td>&lt;&lt;HKDevice: 0x281454050&gt;, name:iPhone, manufac...</td>\n",
              "      <td>StepCount</td>\n",
              "      <td>count</td>\n",
              "      <td>2019-07-10 20:44:18 +0200</td>\n",
              "      <td>2019-07-10 20:33:03 +0200</td>\n",
              "      <td>2019-07-10 20:33:18 +0200</td>\n",
              "      <td>19</td>\n",
              "    </tr>\n",
              "    <tr>\n",
              "      <th>1</th>\n",
              "      <td>Yi</td>\n",
              "      <td>12.3</td>\n",
              "      <td>&lt;&lt;HKDevice: 0x281454050&gt;, name:iPhone, manufac...</td>\n",
              "      <td>StepCount</td>\n",
              "      <td>count</td>\n",
              "      <td>2019-07-10 21:00:53 +0200</td>\n",
              "      <td>2019-07-10 20:48:06 +0200</td>\n",
              "      <td>2019-07-10 20:49:53 +0200</td>\n",
              "      <td>24</td>\n",
              "    </tr>\n",
              "    <tr>\n",
              "      <th>2</th>\n",
              "      <td>Yi</td>\n",
              "      <td>12.3</td>\n",
              "      <td>&lt;&lt;HKDevice: 0x281454050&gt;, name:iPhone, manufac...</td>\n",
              "      <td>StepCount</td>\n",
              "      <td>count</td>\n",
              "      <td>2019-07-10 21:10:29 +0200</td>\n",
              "      <td>2019-07-10 20:58:50 +0200</td>\n",
              "      <td>2019-07-10 21:08:51 +0200</td>\n",
              "      <td>1201</td>\n",
              "    </tr>\n",
              "    <tr>\n",
              "      <th>3</th>\n",
              "      <td>Yi</td>\n",
              "      <td>12.3</td>\n",
              "      <td>&lt;&lt;HKDevice: 0x281454050&gt;, name:iPhone, manufac...</td>\n",
              "      <td>StepCount</td>\n",
              "      <td>count</td>\n",
              "      <td>2019-07-10 21:19:54 +0200</td>\n",
              "      <td>2019-07-10 21:08:51 +0200</td>\n",
              "      <td>2019-07-10 21:18:52 +0200</td>\n",
              "      <td>1030</td>\n",
              "    </tr>\n",
              "    <tr>\n",
              "      <th>4</th>\n",
              "      <td>Yi</td>\n",
              "      <td>12.3</td>\n",
              "      <td>&lt;&lt;HKDevice: 0x281454050&gt;, name:iPhone, manufac...</td>\n",
              "      <td>StepCount</td>\n",
              "      <td>count</td>\n",
              "      <td>2019-07-10 21:29:55 +0200</td>\n",
              "      <td>2019-07-10 21:18:52 +0200</td>\n",
              "      <td>2019-07-10 21:28:53 +0200</td>\n",
              "      <td>976</td>\n",
              "    </tr>\n",
              "  </tbody>\n",
              "</table>\n",
              "</div>"
            ],
            "text/plain": [
              "  sourceName sourceVersion  ...                    endDate value\n",
              "0         Yi          12.3  ...  2019-07-10 20:33:18 +0200    19\n",
              "1         Yi          12.3  ...  2019-07-10 20:49:53 +0200    24\n",
              "2         Yi          12.3  ...  2019-07-10 21:08:51 +0200  1201\n",
              "3         Yi          12.3  ...  2019-07-10 21:18:52 +0200  1030\n",
              "4         Yi          12.3  ...  2019-07-10 21:28:53 +0200   976\n",
              "\n",
              "[5 rows x 9 columns]"
            ]
          },
          "metadata": {
            "tags": []
          },
          "execution_count": 3
        }
      ]
    },
    {
      "cell_type": "code",
      "metadata": {
        "colab": {
          "base_uri": "https://localhost:8080/",
          "height": 589
        },
        "id": "TEBcW2WHuJV9",
        "outputId": "8602a4a8-650b-49c8-dbf7-83a084e9e8cc"
      },
      "source": [
        "from datetime import datetime\n",
        "df['Date'] = pd.to_datetime(df.endDate).dt.strftime('%Y-%m-%d')\n",
        "df"
      ],
      "execution_count": 4,
      "outputs": [
        {
          "output_type": "execute_result",
          "data": {
            "text/html": [
              "<div>\n",
              "<style scoped>\n",
              "    .dataframe tbody tr th:only-of-type {\n",
              "        vertical-align: middle;\n",
              "    }\n",
              "\n",
              "    .dataframe tbody tr th {\n",
              "        vertical-align: top;\n",
              "    }\n",
              "\n",
              "    .dataframe thead th {\n",
              "        text-align: right;\n",
              "    }\n",
              "</style>\n",
              "<table border=\"1\" class=\"dataframe\">\n",
              "  <thead>\n",
              "    <tr style=\"text-align: right;\">\n",
              "      <th></th>\n",
              "      <th>sourceName</th>\n",
              "      <th>sourceVersion</th>\n",
              "      <th>device</th>\n",
              "      <th>type</th>\n",
              "      <th>unit</th>\n",
              "      <th>creationDate</th>\n",
              "      <th>startDate</th>\n",
              "      <th>endDate</th>\n",
              "      <th>value</th>\n",
              "      <th>Date</th>\n",
              "    </tr>\n",
              "  </thead>\n",
              "  <tbody>\n",
              "    <tr>\n",
              "      <th>0</th>\n",
              "      <td>Yi</td>\n",
              "      <td>12.3</td>\n",
              "      <td>&lt;&lt;HKDevice: 0x281454050&gt;, name:iPhone, manufac...</td>\n",
              "      <td>StepCount</td>\n",
              "      <td>count</td>\n",
              "      <td>2019-07-10 20:44:18 +0200</td>\n",
              "      <td>2019-07-10 20:33:03 +0200</td>\n",
              "      <td>2019-07-10 20:33:18 +0200</td>\n",
              "      <td>19</td>\n",
              "      <td>2019-07-10</td>\n",
              "    </tr>\n",
              "    <tr>\n",
              "      <th>1</th>\n",
              "      <td>Yi</td>\n",
              "      <td>12.3</td>\n",
              "      <td>&lt;&lt;HKDevice: 0x281454050&gt;, name:iPhone, manufac...</td>\n",
              "      <td>StepCount</td>\n",
              "      <td>count</td>\n",
              "      <td>2019-07-10 21:00:53 +0200</td>\n",
              "      <td>2019-07-10 20:48:06 +0200</td>\n",
              "      <td>2019-07-10 20:49:53 +0200</td>\n",
              "      <td>24</td>\n",
              "      <td>2019-07-10</td>\n",
              "    </tr>\n",
              "    <tr>\n",
              "      <th>2</th>\n",
              "      <td>Yi</td>\n",
              "      <td>12.3</td>\n",
              "      <td>&lt;&lt;HKDevice: 0x281454050&gt;, name:iPhone, manufac...</td>\n",
              "      <td>StepCount</td>\n",
              "      <td>count</td>\n",
              "      <td>2019-07-10 21:10:29 +0200</td>\n",
              "      <td>2019-07-10 20:58:50 +0200</td>\n",
              "      <td>2019-07-10 21:08:51 +0200</td>\n",
              "      <td>1201</td>\n",
              "      <td>2019-07-10</td>\n",
              "    </tr>\n",
              "    <tr>\n",
              "      <th>3</th>\n",
              "      <td>Yi</td>\n",
              "      <td>12.3</td>\n",
              "      <td>&lt;&lt;HKDevice: 0x281454050&gt;, name:iPhone, manufac...</td>\n",
              "      <td>StepCount</td>\n",
              "      <td>count</td>\n",
              "      <td>2019-07-10 21:19:54 +0200</td>\n",
              "      <td>2019-07-10 21:08:51 +0200</td>\n",
              "      <td>2019-07-10 21:18:52 +0200</td>\n",
              "      <td>1030</td>\n",
              "      <td>2019-07-10</td>\n",
              "    </tr>\n",
              "    <tr>\n",
              "      <th>4</th>\n",
              "      <td>Yi</td>\n",
              "      <td>12.3</td>\n",
              "      <td>&lt;&lt;HKDevice: 0x281454050&gt;, name:iPhone, manufac...</td>\n",
              "      <td>StepCount</td>\n",
              "      <td>count</td>\n",
              "      <td>2019-07-10 21:29:55 +0200</td>\n",
              "      <td>2019-07-10 21:18:52 +0200</td>\n",
              "      <td>2019-07-10 21:28:53 +0200</td>\n",
              "      <td>976</td>\n",
              "      <td>2019-07-10</td>\n",
              "    </tr>\n",
              "    <tr>\n",
              "      <th>...</th>\n",
              "      <td>...</td>\n",
              "      <td>...</td>\n",
              "      <td>...</td>\n",
              "      <td>...</td>\n",
              "      <td>...</td>\n",
              "      <td>...</td>\n",
              "      <td>...</td>\n",
              "      <td>...</td>\n",
              "      <td>...</td>\n",
              "      <td>...</td>\n",
              "    </tr>\n",
              "    <tr>\n",
              "      <th>10886</th>\n",
              "      <td>Yi</td>\n",
              "      <td>14.0</td>\n",
              "      <td>&lt;&lt;HKDevice: 0x281457ca0&gt;, name:iPhone, manufac...</td>\n",
              "      <td>StepCount</td>\n",
              "      <td>count</td>\n",
              "      <td>2020-11-17 19:41:42 +0200</td>\n",
              "      <td>2020-11-17 19:22:43 +0200</td>\n",
              "      <td>2020-11-17 19:32:43 +0200</td>\n",
              "      <td>1305</td>\n",
              "      <td>2020-11-17</td>\n",
              "    </tr>\n",
              "    <tr>\n",
              "      <th>10887</th>\n",
              "      <td>Yi</td>\n",
              "      <td>14.0</td>\n",
              "      <td>&lt;&lt;HKDevice: 0x281457ca0&gt;, name:iPhone, manufac...</td>\n",
              "      <td>StepCount</td>\n",
              "      <td>count</td>\n",
              "      <td>2020-11-17 19:51:26 +0200</td>\n",
              "      <td>2020-11-17 19:32:43 +0200</td>\n",
              "      <td>2020-11-17 19:42:42 +0200</td>\n",
              "      <td>1339</td>\n",
              "      <td>2020-11-17</td>\n",
              "    </tr>\n",
              "    <tr>\n",
              "      <th>10888</th>\n",
              "      <td>Yi</td>\n",
              "      <td>14.0</td>\n",
              "      <td>&lt;&lt;HKDevice: 0x281457ca0&gt;, name:iPhone, manufac...</td>\n",
              "      <td>StepCount</td>\n",
              "      <td>count</td>\n",
              "      <td>2020-11-17 19:57:30 +0200</td>\n",
              "      <td>2020-11-17 19:42:42 +0200</td>\n",
              "      <td>2020-11-17 19:52:42 +0200</td>\n",
              "      <td>1343</td>\n",
              "      <td>2020-11-17</td>\n",
              "    </tr>\n",
              "    <tr>\n",
              "      <th>10889</th>\n",
              "      <td>Yi</td>\n",
              "      <td>14.0</td>\n",
              "      <td>&lt;&lt;HKDevice: 0x281457ca0&gt;, name:iPhone, manufac...</td>\n",
              "      <td>StepCount</td>\n",
              "      <td>count</td>\n",
              "      <td>2020-11-17 20:07:48 +0200</td>\n",
              "      <td>2020-11-17 19:52:42 +0200</td>\n",
              "      <td>2020-11-17 19:58:39 +0200</td>\n",
              "      <td>720</td>\n",
              "      <td>2020-11-17</td>\n",
              "    </tr>\n",
              "    <tr>\n",
              "      <th>10890</th>\n",
              "      <td>Yi</td>\n",
              "      <td>14.0</td>\n",
              "      <td>&lt;&lt;HKDevice: 0x281457ca0&gt;, name:iPhone, manufac...</td>\n",
              "      <td>StepCount</td>\n",
              "      <td>count</td>\n",
              "      <td>2020-11-17 20:32:57 +0200</td>\n",
              "      <td>2020-11-17 20:22:03 +0200</td>\n",
              "      <td>2020-11-17 20:22:05 +0200</td>\n",
              "      <td>8</td>\n",
              "      <td>2020-11-17</td>\n",
              "    </tr>\n",
              "  </tbody>\n",
              "</table>\n",
              "<p>10891 rows × 10 columns</p>\n",
              "</div>"
            ],
            "text/plain": [
              "      sourceName sourceVersion  ... value        Date\n",
              "0             Yi          12.3  ...    19  2019-07-10\n",
              "1             Yi          12.3  ...    24  2019-07-10\n",
              "2             Yi          12.3  ...  1201  2019-07-10\n",
              "3             Yi          12.3  ...  1030  2019-07-10\n",
              "4             Yi          12.3  ...   976  2019-07-10\n",
              "...          ...           ...  ...   ...         ...\n",
              "10886         Yi          14.0  ...  1305  2020-11-17\n",
              "10887         Yi          14.0  ...  1339  2020-11-17\n",
              "10888         Yi          14.0  ...  1343  2020-11-17\n",
              "10889         Yi          14.0  ...   720  2020-11-17\n",
              "10890         Yi          14.0  ...     8  2020-11-17\n",
              "\n",
              "[10891 rows x 10 columns]"
            ]
          },
          "metadata": {
            "tags": []
          },
          "execution_count": 4
        }
      ]
    },
    {
      "cell_type": "code",
      "metadata": {
        "colab": {
          "base_uri": "https://localhost:8080/",
          "height": 669
        },
        "id": "lqb0RL-gxl22",
        "outputId": "235eafbf-f5ff-4cb7-c2f7-2a0a33435446"
      },
      "source": [
        "df=df[['Date','value']]\n",
        "df.head(20)"
      ],
      "execution_count": 5,
      "outputs": [
        {
          "output_type": "execute_result",
          "data": {
            "text/html": [
              "<div>\n",
              "<style scoped>\n",
              "    .dataframe tbody tr th:only-of-type {\n",
              "        vertical-align: middle;\n",
              "    }\n",
              "\n",
              "    .dataframe tbody tr th {\n",
              "        vertical-align: top;\n",
              "    }\n",
              "\n",
              "    .dataframe thead th {\n",
              "        text-align: right;\n",
              "    }\n",
              "</style>\n",
              "<table border=\"1\" class=\"dataframe\">\n",
              "  <thead>\n",
              "    <tr style=\"text-align: right;\">\n",
              "      <th></th>\n",
              "      <th>Date</th>\n",
              "      <th>value</th>\n",
              "    </tr>\n",
              "  </thead>\n",
              "  <tbody>\n",
              "    <tr>\n",
              "      <th>0</th>\n",
              "      <td>2019-07-10</td>\n",
              "      <td>19</td>\n",
              "    </tr>\n",
              "    <tr>\n",
              "      <th>1</th>\n",
              "      <td>2019-07-10</td>\n",
              "      <td>24</td>\n",
              "    </tr>\n",
              "    <tr>\n",
              "      <th>2</th>\n",
              "      <td>2019-07-10</td>\n",
              "      <td>1201</td>\n",
              "    </tr>\n",
              "    <tr>\n",
              "      <th>3</th>\n",
              "      <td>2019-07-10</td>\n",
              "      <td>1030</td>\n",
              "    </tr>\n",
              "    <tr>\n",
              "      <th>4</th>\n",
              "      <td>2019-07-10</td>\n",
              "      <td>976</td>\n",
              "    </tr>\n",
              "    <tr>\n",
              "      <th>5</th>\n",
              "      <td>2019-07-10</td>\n",
              "      <td>1094</td>\n",
              "    </tr>\n",
              "    <tr>\n",
              "      <th>6</th>\n",
              "      <td>2019-07-10</td>\n",
              "      <td>920</td>\n",
              "    </tr>\n",
              "    <tr>\n",
              "      <th>7</th>\n",
              "      <td>2019-07-10</td>\n",
              "      <td>1038</td>\n",
              "    </tr>\n",
              "    <tr>\n",
              "      <th>8</th>\n",
              "      <td>2019-07-10</td>\n",
              "      <td>1144</td>\n",
              "    </tr>\n",
              "    <tr>\n",
              "      <th>9</th>\n",
              "      <td>2019-07-10</td>\n",
              "      <td>1210</td>\n",
              "    </tr>\n",
              "    <tr>\n",
              "      <th>10</th>\n",
              "      <td>2019-07-10</td>\n",
              "      <td>717</td>\n",
              "    </tr>\n",
              "    <tr>\n",
              "      <th>11</th>\n",
              "      <td>2019-07-11</td>\n",
              "      <td>19</td>\n",
              "    </tr>\n",
              "    <tr>\n",
              "      <th>12</th>\n",
              "      <td>2019-07-11</td>\n",
              "      <td>28</td>\n",
              "    </tr>\n",
              "    <tr>\n",
              "      <th>13</th>\n",
              "      <td>2019-07-11</td>\n",
              "      <td>208</td>\n",
              "    </tr>\n",
              "    <tr>\n",
              "      <th>14</th>\n",
              "      <td>2019-07-11</td>\n",
              "      <td>14</td>\n",
              "    </tr>\n",
              "    <tr>\n",
              "      <th>15</th>\n",
              "      <td>2019-07-11</td>\n",
              "      <td>586</td>\n",
              "    </tr>\n",
              "    <tr>\n",
              "      <th>16</th>\n",
              "      <td>2019-07-11</td>\n",
              "      <td>60</td>\n",
              "    </tr>\n",
              "    <tr>\n",
              "      <th>17</th>\n",
              "      <td>2019-07-11</td>\n",
              "      <td>187</td>\n",
              "    </tr>\n",
              "    <tr>\n",
              "      <th>18</th>\n",
              "      <td>2019-07-11</td>\n",
              "      <td>211</td>\n",
              "    </tr>\n",
              "    <tr>\n",
              "      <th>19</th>\n",
              "      <td>2019-07-11</td>\n",
              "      <td>146</td>\n",
              "    </tr>\n",
              "  </tbody>\n",
              "</table>\n",
              "</div>"
            ],
            "text/plain": [
              "          Date  value\n",
              "0   2019-07-10     19\n",
              "1   2019-07-10     24\n",
              "2   2019-07-10   1201\n",
              "3   2019-07-10   1030\n",
              "4   2019-07-10    976\n",
              "5   2019-07-10   1094\n",
              "6   2019-07-10    920\n",
              "7   2019-07-10   1038\n",
              "8   2019-07-10   1144\n",
              "9   2019-07-10   1210\n",
              "10  2019-07-10    717\n",
              "11  2019-07-11     19\n",
              "12  2019-07-11     28\n",
              "13  2019-07-11    208\n",
              "14  2019-07-11     14\n",
              "15  2019-07-11    586\n",
              "16  2019-07-11     60\n",
              "17  2019-07-11    187\n",
              "18  2019-07-11    211\n",
              "19  2019-07-11    146"
            ]
          },
          "metadata": {
            "tags": []
          },
          "execution_count": 5
        }
      ]
    },
    {
      "cell_type": "code",
      "metadata": {
        "colab": {
          "base_uri": "https://localhost:8080/",
          "height": 450
        },
        "id": "XA8fkPd3yob6",
        "outputId": "1eb93eb8-3eb9-4b46-befb-06109fe6f148"
      },
      "source": [
        "df=df.groupby(['Date']).agg({'value':np.sum})\n",
        "df"
      ],
      "execution_count": 6,
      "outputs": [
        {
          "output_type": "execute_result",
          "data": {
            "text/html": [
              "<div>\n",
              "<style scoped>\n",
              "    .dataframe tbody tr th:only-of-type {\n",
              "        vertical-align: middle;\n",
              "    }\n",
              "\n",
              "    .dataframe tbody tr th {\n",
              "        vertical-align: top;\n",
              "    }\n",
              "\n",
              "    .dataframe thead th {\n",
              "        text-align: right;\n",
              "    }\n",
              "</style>\n",
              "<table border=\"1\" class=\"dataframe\">\n",
              "  <thead>\n",
              "    <tr style=\"text-align: right;\">\n",
              "      <th></th>\n",
              "      <th>value</th>\n",
              "    </tr>\n",
              "    <tr>\n",
              "      <th>Date</th>\n",
              "      <th></th>\n",
              "    </tr>\n",
              "  </thead>\n",
              "  <tbody>\n",
              "    <tr>\n",
              "      <th>2019-07-10</th>\n",
              "      <td>9373</td>\n",
              "    </tr>\n",
              "    <tr>\n",
              "      <th>2019-07-11</th>\n",
              "      <td>14809</td>\n",
              "    </tr>\n",
              "    <tr>\n",
              "      <th>2019-07-12</th>\n",
              "      <td>13218</td>\n",
              "    </tr>\n",
              "    <tr>\n",
              "      <th>2019-07-13</th>\n",
              "      <td>16455</td>\n",
              "    </tr>\n",
              "    <tr>\n",
              "      <th>2019-07-14</th>\n",
              "      <td>15621</td>\n",
              "    </tr>\n",
              "    <tr>\n",
              "      <th>...</th>\n",
              "      <td>...</td>\n",
              "    </tr>\n",
              "    <tr>\n",
              "      <th>2020-11-13</th>\n",
              "      <td>11931</td>\n",
              "    </tr>\n",
              "    <tr>\n",
              "      <th>2020-11-14</th>\n",
              "      <td>12153</td>\n",
              "    </tr>\n",
              "    <tr>\n",
              "      <th>2020-11-15</th>\n",
              "      <td>10425</td>\n",
              "    </tr>\n",
              "    <tr>\n",
              "      <th>2020-11-16</th>\n",
              "      <td>16322</td>\n",
              "    </tr>\n",
              "    <tr>\n",
              "      <th>2020-11-17</th>\n",
              "      <td>12454</td>\n",
              "    </tr>\n",
              "  </tbody>\n",
              "</table>\n",
              "<p>496 rows × 1 columns</p>\n",
              "</div>"
            ],
            "text/plain": [
              "            value\n",
              "Date             \n",
              "2019-07-10   9373\n",
              "2019-07-11  14809\n",
              "2019-07-12  13218\n",
              "2019-07-13  16455\n",
              "2019-07-14  15621\n",
              "...           ...\n",
              "2020-11-13  11931\n",
              "2020-11-14  12153\n",
              "2020-11-15  10425\n",
              "2020-11-16  16322\n",
              "2020-11-17  12454\n",
              "\n",
              "[496 rows x 1 columns]"
            ]
          },
          "metadata": {
            "tags": []
          },
          "execution_count": 6
        }
      ]
    },
    {
      "cell_type": "code",
      "metadata": {
        "id": "3pr4FgZXzfb7"
      },
      "source": [
        "df.to_csv(\"stepCount.csv\")"
      ],
      "execution_count": 7,
      "outputs": []
    },
    {
      "cell_type": "code",
      "metadata": {
        "colab": {
          "base_uri": "https://localhost:8080/",
          "height": 419
        },
        "id": "fZogFrbJzv_B",
        "outputId": "e36ae641-5c91-4e0a-a105-5473aaac5310"
      },
      "source": [
        "test=pd.read_csv(\"stepCount.csv\")\n",
        "test"
      ],
      "execution_count": 8,
      "outputs": [
        {
          "output_type": "execute_result",
          "data": {
            "text/html": [
              "<div>\n",
              "<style scoped>\n",
              "    .dataframe tbody tr th:only-of-type {\n",
              "        vertical-align: middle;\n",
              "    }\n",
              "\n",
              "    .dataframe tbody tr th {\n",
              "        vertical-align: top;\n",
              "    }\n",
              "\n",
              "    .dataframe thead th {\n",
              "        text-align: right;\n",
              "    }\n",
              "</style>\n",
              "<table border=\"1\" class=\"dataframe\">\n",
              "  <thead>\n",
              "    <tr style=\"text-align: right;\">\n",
              "      <th></th>\n",
              "      <th>Date</th>\n",
              "      <th>value</th>\n",
              "    </tr>\n",
              "  </thead>\n",
              "  <tbody>\n",
              "    <tr>\n",
              "      <th>0</th>\n",
              "      <td>2019-07-10</td>\n",
              "      <td>9373</td>\n",
              "    </tr>\n",
              "    <tr>\n",
              "      <th>1</th>\n",
              "      <td>2019-07-11</td>\n",
              "      <td>14809</td>\n",
              "    </tr>\n",
              "    <tr>\n",
              "      <th>2</th>\n",
              "      <td>2019-07-12</td>\n",
              "      <td>13218</td>\n",
              "    </tr>\n",
              "    <tr>\n",
              "      <th>3</th>\n",
              "      <td>2019-07-13</td>\n",
              "      <td>16455</td>\n",
              "    </tr>\n",
              "    <tr>\n",
              "      <th>4</th>\n",
              "      <td>2019-07-14</td>\n",
              "      <td>15621</td>\n",
              "    </tr>\n",
              "    <tr>\n",
              "      <th>...</th>\n",
              "      <td>...</td>\n",
              "      <td>...</td>\n",
              "    </tr>\n",
              "    <tr>\n",
              "      <th>491</th>\n",
              "      <td>2020-11-13</td>\n",
              "      <td>11931</td>\n",
              "    </tr>\n",
              "    <tr>\n",
              "      <th>492</th>\n",
              "      <td>2020-11-14</td>\n",
              "      <td>12153</td>\n",
              "    </tr>\n",
              "    <tr>\n",
              "      <th>493</th>\n",
              "      <td>2020-11-15</td>\n",
              "      <td>10425</td>\n",
              "    </tr>\n",
              "    <tr>\n",
              "      <th>494</th>\n",
              "      <td>2020-11-16</td>\n",
              "      <td>16322</td>\n",
              "    </tr>\n",
              "    <tr>\n",
              "      <th>495</th>\n",
              "      <td>2020-11-17</td>\n",
              "      <td>12454</td>\n",
              "    </tr>\n",
              "  </tbody>\n",
              "</table>\n",
              "<p>496 rows × 2 columns</p>\n",
              "</div>"
            ],
            "text/plain": [
              "           Date  value\n",
              "0    2019-07-10   9373\n",
              "1    2019-07-11  14809\n",
              "2    2019-07-12  13218\n",
              "3    2019-07-13  16455\n",
              "4    2019-07-14  15621\n",
              "..          ...    ...\n",
              "491  2020-11-13  11931\n",
              "492  2020-11-14  12153\n",
              "493  2020-11-15  10425\n",
              "494  2020-11-16  16322\n",
              "495  2020-11-17  12454\n",
              "\n",
              "[496 rows x 2 columns]"
            ]
          },
          "metadata": {
            "tags": []
          },
          "execution_count": 8
        }
      ]
    },
    {
      "cell_type": "code",
      "metadata": {
        "colab": {
          "base_uri": "https://localhost:8080/",
          "height": 265
        },
        "id": "CgaHCLiJz-bF",
        "outputId": "0e3d0d1c-37ae-46e6-8643-8520558c1de9"
      },
      "source": [
        "from matplotlib import pyplot\n",
        "test.plot()\n",
        "pyplot.show()\n"
      ],
      "execution_count": 16,
      "outputs": [
        {
          "output_type": "display_data",
          "data": {
            "image/png": "[encoded data removed]",
            "text/plain": [
              "<Figure size 432x288 with 1 Axes>"
            ]
          },
          "metadata": {
            "tags": [],
            "needs_background": "light"
          }
        }
      ]
    },
    {
      "cell_type": "code",
      "metadata": {
        "colab": {
          "base_uri": "https://localhost:8080/",
          "height": 281
        },
        "id": "dTDR1qZt1Vz-",
        "outputId": "d4f07093-0116-4b1b-a122-de86e2557915"
      },
      "source": [
        "test.hist()\n",
        "pyplot.show()"
      ],
      "execution_count": 18,
      "outputs": [
        {
          "output_type": "display_data",
          "data": {
            "image/png": "[encoded data removed]",
            "text/plain": [
              "<Figure size 432x288 with 1 Axes>"
            ]
          },
          "metadata": {
            "tags": [],
            "needs_background": "light"
          }
        }
      ]
    },
    {
      "cell_type": "code",
      "metadata": {
        "colab": {
          "base_uri": "https://localhost:8080/",
          "height": 266
        },
        "id": "zdbkVAph073F",
        "outputId": "898ff6af-bf07-4b09-8816-38ebe675c0fb"
      },
      "source": [
        "test.plot(kind='kde')\n",
        "pyplot.show()"
      ],
      "execution_count": 19,
      "outputs": [
        {
          "output_type": "display_data",
          "data": {
            "image/png": "[encoded data removed]",
            "text/plain": [
              "<Figure size 432x288 with 1 Axes>"
            ]
          },
          "metadata": {
            "tags": [],
            "needs_background": "light"
          }
        }
      ]
    },
    {
      "cell_type": "markdown",
      "metadata": {
        "id": "MvT_SVzks_ay"
      },
      "source": [
        ""
      ]
    }
  ]
}